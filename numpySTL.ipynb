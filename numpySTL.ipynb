{
  "nbformat": 4,
  "nbformat_minor": 0,
  "metadata": {
    "colab": {
      "provenance": [],
      "mount_file_id": "1DVUESPEyG82w1OSw1KBsn-b9a-rAwX_v",
      "authorship_tag": "ABX9TyOOAGlnzLSje0dL0zRh8NHn",
      "include_colab_link": true
    },
    "kernelspec": {
      "name": "python3",
      "display_name": "Python 3"
    },
    "language_info": {
      "name": "python"
    }
  },
  "cells": [
    {
      "cell_type": "markdown",
      "metadata": {
        "id": "view-in-github",
        "colab_type": "text"
      },
      "source": [
        "<a href=\"https://colab.research.google.com/github/tiwylli/pytorch-3d-point-cloud-generation/blob/master/numpySTL.ipynb\" target=\"_parent\"><img src=\"https://colab.research.google.com/assets/colab-badge.svg\" alt=\"Open In Colab\"/></a>"
      ]
    },
    {
      "cell_type": "code",
      "execution_count": null,
      "metadata": {
        "colab": {
          "base_uri": "https://localhost:8080/"
        },
        "id": "sWcgasnOVRE2",
        "outputId": "97ec8f4c-fdc8-4416-d62a-f506c669bf1d"
      },
      "outputs": [
        {
          "output_type": "stream",
          "name": "stdout",
          "text": [
            "Collecting numpy-stl\n",
            "  Downloading numpy_stl-3.1.1-py3-none-any.whl (20 kB)\n",
            "Requirement already satisfied: numpy in /usr/local/lib/python3.10/dist-packages (from numpy-stl) (1.23.5)\n",
            "Requirement already satisfied: python-utils>=3.4.5 in /usr/local/lib/python3.10/dist-packages (from numpy-stl) (3.8.2)\n",
            "Requirement already satisfied: typing-extensions>3.10.0.2 in /usr/local/lib/python3.10/dist-packages (from python-utils>=3.4.5->numpy-stl) (4.9.0)\n",
            "Installing collected packages: numpy-stl\n",
            "Successfully installed numpy-stl-3.1.1\n"
          ]
        }
      ],
      "source": [
        "!pip3 install numpy-stl"
      ]
    },
    {
      "cell_type": "code",
      "source": [
        "import numpy as np\n",
        "from stl import mesh\n",
        "\n",
        "# Define the 8 vertices of the cube*\n",
        "vertices = np.array([\\\n",
        "    [-1, -1, -1],\n",
        "    [+1, -1, -1],\n",
        "    [+1, +1, -1],\n",
        "    [-1, +1, -1],\n",
        "    [-1, -1, +1],\n",
        "    [+1, -1, +1],\n",
        "    [+1, +1, +1],\n",
        "    [-1, +1, +1]])\n",
        "# Define the 12 triangles composing the cube*\n",
        "faces = np.array([\\\n",
        "    [0,3,1],\n",
        "    [1,3,2],\n",
        "    [0,4,7],\n",
        "    [0,7,3],\n",
        "    [4,5,6],\n",
        "    [4,6,7],\n",
        "    [5,1,2],\n",
        "    [5,2,6],\n",
        "    [2,3,6],\n",
        "    [3,7,6],\n",
        "    [0,1,5],\n",
        "    [0,5,4]])\n",
        "\n",
        "# Create the mesh*\n",
        "cube = mesh.Mesh(np.zeros(faces.shape[0], dtype=mesh.Mesh.dtype))\n",
        "for i, f in enumerate(faces):\n",
        "    for j in range(3):\n",
        "        print(vertices[f[j],:])\n",
        "        cube.vectors[i][j] = vertices[f[j]]\n",
        "\n",
        "# Write the mesh to file \"cube.stl\"*\n",
        "cube.save('cube.stl')"
      ],
      "metadata": {
        "colab": {
          "base_uri": "https://localhost:8080/"
        },
        "id": "5cTuIwH7VudU",
        "outputId": "250c7d33-c249-42b1-950e-123a8b48ed5b"
      },
      "execution_count": null,
      "outputs": [
        {
          "output_type": "stream",
          "name": "stdout",
          "text": [
            "[-1 -1 -1]\n",
            "[-1  1 -1]\n",
            "[ 1 -1 -1]\n",
            "[ 1 -1 -1]\n",
            "[-1  1 -1]\n",
            "[ 1  1 -1]\n",
            "[-1 -1 -1]\n",
            "[-1 -1  1]\n",
            "[-1  1  1]\n",
            "[-1 -1 -1]\n",
            "[-1  1  1]\n",
            "[-1  1 -1]\n",
            "[-1 -1  1]\n",
            "[ 1 -1  1]\n",
            "[1 1 1]\n",
            "[-1 -1  1]\n",
            "[1 1 1]\n",
            "[-1  1  1]\n",
            "[ 1 -1  1]\n",
            "[ 1 -1 -1]\n",
            "[ 1  1 -1]\n",
            "[ 1 -1  1]\n",
            "[ 1  1 -1]\n",
            "[1 1 1]\n",
            "[ 1  1 -1]\n",
            "[-1  1 -1]\n",
            "[1 1 1]\n",
            "[-1  1 -1]\n",
            "[-1  1  1]\n",
            "[1 1 1]\n",
            "[-1 -1 -1]\n",
            "[ 1 -1 -1]\n",
            "[ 1 -1  1]\n",
            "[-1 -1 -1]\n",
            "[ 1 -1  1]\n",
            "[-1 -1  1]\n"
          ]
        }
      ]
    },
    {
      "cell_type": "code",
      "source": [
        "from PIL import Image\n",
        "import matplotlib.pyplot as plt\n",
        "im = Image.open(\"/content/chair.png\")\n",
        "plt.imshow(im)"
      ],
      "metadata": {
        "colab": {
          "base_uri": "https://localhost:8080/",
          "height": 325
        },
        "id": "EtmLO7vNemVm",
        "outputId": "1d3673be-2883-47c9-d3ec-8475ac386590"
      },
      "execution_count": null,
      "outputs": [
        {
          "output_type": "execute_result",
          "data": {
            "text/plain": [
              "<matplotlib.image.AxesImage at 0x789df102e200>"
            ]
          },
          "metadata": {},
          "execution_count": 8
        },
        {
          "output_type": "display_data",
          "data": {
            "text/plain": [
              "<Figure size 640x480 with 1 Axes>"
            ],
            "image/png": "[encoded data removed]"
          },
          "metadata": {}
        }
      ]
    },
    {
      "cell_type": "code",
      "source": [
        "grey_img = Image.open(\"/content/chair.png\").convert('LA')\n",
        "plt.imshow(grey_img)\n"
      ],
      "metadata": {
        "colab": {
          "base_uri": "https://localhost:8080/",
          "height": 325
        },
        "id": "SAy0X_JdgTpv",
        "outputId": "003a9a2c-14cd-4358-e8d4-9bd4be5903bd"
      },
      "execution_count": null,
      "outputs": [
        {
          "output_type": "execute_result",
          "data": {
            "text/plain": [
              "<matplotlib.image.AxesImage at 0x789df0ef6140>"
            ]
          },
          "metadata": {},
          "execution_count": 10
        },
        {
          "output_type": "display_data",
          "data": {
            "text/plain": [
              "<Figure size 640x480 with 1 Axes>"
            ],
            "image/png": "[encoded data removed]"
          },
          "metadata": {}
        }
      ]
    },
    {
      "cell_type": "code",
      "source": [
        "import numpy as np\n",
        "from stl import mesh\n",
        "# Define the 8 vertices of the cube\n",
        "vertices = np.array([[-1, -1, -1], [+1, -1, -1], [+1, +1, -1], [-1, +1, -1]])\n",
        "# Define the 12 triangles composing the cube\n",
        "faces = np.array([[1,2,3], [3,1,0] ])\n",
        "# Create the mesh\n",
        "cube = mesh.Mesh(np.zeros(faces.shape[0], dtype=mesh.Mesh.dtype))\n",
        "for i, f in enumerate(faces):\n",
        "  for j in range(3):\n",
        "    cube.vectors[i][j] = vertices[f[j],:]\n",
        "# Write the mesh to file \"cube.stl\"\n",
        "cube.save('surface.stl')"
      ],
      "metadata": {
        "id": "_SL3GN0HgiNm"
      },
      "execution_count": null,
      "outputs": []
    },
    {
      "cell_type": "markdown",
      "source": [],
      "metadata": {
        "id": "Zuw7jOVliBVN"
      }
    },
    {
      "cell_type": "code",
      "source": [
        "image_name = 'tofu.jpg'\n",
        "grey_img = Image.open('/content/'+image_name).convert('L')\n",
        "max_size=(500,500)\n",
        "max_height=50\n",
        "min_height=0\n",
        "#height=0 for minPix\n",
        "#height=maxHeight for maxPIx\n",
        "grey_img.thumbnail(max_size)\n",
        "imageNp = np.array(grey_img)\n",
        "maxPix=imageNp.max()\n",
        "minPix=imageNp.min()\n",
        "print(imageNp)\n",
        "(ncols,nrows)=grey_img.size\n",
        "\n",
        "vertices=np.zeros((nrows,ncols,3))\n",
        "\n",
        "for x in range(0, ncols):\n",
        "  for y in range(0, nrows):\n",
        "    pixelIntensity = imageNp[y][x]\n",
        "    if pixelIntensity < 255:\n",
        "      z = (pixelIntensity * max_height) / maxPix\n",
        "    else :\n",
        "      z = 0\n",
        "    #print(imageNp[y][x])\n",
        "    vertices[y][x]=(x, y, z)\n",
        "\n",
        "faces=[]\n",
        "\n",
        "for x in range(0, ncols - 1):\n",
        "  for y in range(0, nrows - 1):\n",
        "    z=0\n",
        "    # create face 1\n",
        "    vertice1 = vertices[y][x]\n",
        "    vertice2 = vertices[y+1][x]\n",
        "    vertice3 = vertices[y+1][x+1]\n",
        "    face1 = np.array([vertice1,vertice2,vertice3])\n",
        "\n",
        "    # create face 2\n",
        "    vertice1 = vertices[y][x]\n",
        "    vertice2 = vertices[y][x+1]\n",
        "    vertice3 = vertices[y+1][x+1]\n",
        "    face2 = np.array([vertice1,vertice2,vertice3])\n",
        "\n",
        "    faces.append(face1)\n",
        "    faces.append(face2)\n",
        "\n",
        "print(f\"number of faces: {len(faces)}\")\n",
        "facesNp = np.array(faces)\n",
        "# Create the mesh\n",
        "surface = mesh.Mesh(np.zeros(facesNp.shape[0], dtype=mesh.Mesh.dtype))\n",
        "for i, f in enumerate(faces):\n",
        "  for j in range(3):\n",
        "    surface.vectors[i][j] = facesNp[i][j]\n",
        "# Write the mesh to file \"cube.stl\"\n",
        "surface.save(image_name+'.stl')\n",
        "print(surface)\n"
      ],
      "metadata": {
        "colab": {
          "base_uri": "https://localhost:8080/"
        },
        "id": "gQkUs4WMiN4Q",
        "outputId": "4b72504d-9218-44c9-e03e-e3f3e48291ec"
      },
      "execution_count": null,
      "outputs": [
        {
          "output_type": "stream",
          "name": "stdout",
          "text": [
            "[[ 82  78  73 ... 221 221 221]\n",
            " [ 80  76  72 ... 221 221 220]\n",
            " [ 80  75  71 ... 220 220 219]\n",
            " ...\n",
            " [134 130 131 ... 122 121 121]\n",
            " [133 129 131 ... 120 124 125]\n",
            " [132 131 131 ... 123 125 127]]\n",
            "number of faces: 462074\n",
            "<Mesh: '' 462074 vertices>\n"
          ]
        }
      ]
    }
  ]
}